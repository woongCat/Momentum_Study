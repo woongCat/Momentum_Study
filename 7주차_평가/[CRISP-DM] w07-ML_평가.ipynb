{
 "cells": [
  {
   "cell_type": "markdown",
   "id": "065e918c",
   "metadata": {},
   "source": [
    "# Train/Test Split\n",
    "# Overfitting, Underfitting\n",
    "# k—FOLD Cross Validation\n",
    "# Stratified K-fold Cross Validation\n",
    "# Grid Search"
   ]
  },
  {
   "cell_type": "markdown",
   "id": "d83af604",
   "metadata": {},
   "source": [
    "# MSE, RMSE, MAE, R2"
   ]
  },
  {
   "cell_type": "markdown",
   "id": "a79b82e3",
   "metadata": {},
   "source": [
    "# 혼동 행렬\n",
    "# 정확도, 오분류율, 정밀도, 민감도, 특이도 그리고 f-score\n",
    "# ROC 곡선과 AUC"
   ]
  },
  {
   "cell_type": "markdown",
   "id": "70042bf6",
   "metadata": {},
   "source": [
    "# A/B 테스트 주제와 절차"
   ]
  },
  {
   "cell_type": "code",
   "execution_count": null,
   "id": "d97f0b0f",
   "metadata": {
    "vscode": {
     "languageId": "plaintext"
    }
   },
   "outputs": [],
   "source": []
  },
  {
   "cell_type": "markdown",
   "id": "0a064a78",
   "metadata": {},
   "source": [
    "01: # 필요한 패키지 임포트\n",
    "02: from sklearn.model_selection import train_test_spl.it\n",
    "03: from sklearn.model_selection import KFold, LeaveOneOut, StratifiedKFold\n",
    "04: from sklearn.model_selection import cross_val_score, GridSearchCV\n",
    "05： from sklearn.metrics import accuracy_score\n",
    "06： from sklearn.ensemble import RandomForestClassifier\n",
    "07: import pandas as pd\n",
    "08: import numpy as np"
   ]
  }
 ],
 "metadata": {
  "language_info": {
   "name": "python"
  }
 },
 "nbformat": 4,
 "nbformat_minor": 5
}
